{
 "cells": [
  {
   "cell_type": "markdown",
   "metadata": {},
   "source": [
    "# Condiciones y ejecución condicional"
   ]
  },
  {
   "cell_type": "markdown",
   "metadata": {},
   "source": [
    "Ya sabes como hacer preguntas a Python, pero aún no sabes como hacer un uso razonable de las respuestas. Se debe tener un mecanismo que le permita hacer algo si se cumple una condición, y no hacerlo si no se cumple.\n",
    "\n",
    "Es como en la vida real: haces ciertas cosas o no cuando se cumple una condición específica, por ejemplo, sales a caminar si el clima es bueno, o te quedas en casa si está húmedo y frío.\n",
    "\n",
    "Para tomar tales decisiones, Python ofrece una instrucción especial. Debido a su naturaleza y su aplicación, se denomina instrucción condicional (o sentencia condicional).\n",
    "\n",
    "Existen varias variantes de la misma. Comenzaremos con la más simple, aumentando la dificultad lentamente.\n",
    "\n",
    "La primera forma de una sentencia condicional, que puede ver a continuación, está escrita de manera muy informal pero figurada:\n",
    "\n",
    "if true_or_not:\n",
    "    do_this_if_true\n",
    "\n",
    "sentencia if\n",
    "\n",
    "```python\n",
    "if the_weather_is_good:\n",
    "    go_for_a_walk()\n",
    "have_lunch()\n",
    "```\n",
    "\n",
    "```python\n",
    "if sheep_counter >= 120: # Evaluar una expresión condicional\n",
    "    sleep_and_dream() # Ejecutar si la expresión condicional es verdadera\n",
    "```\n",
    "\n",
    "```python\n",
    "if sheep_counter >= 120: # Evaluar una expresión condicional\n",
    "    sleep_and_dream() # Ejecutar si la expresión condicional es verdadera\n",
    "```\n",
    "\n",
    "``` python\n",
    "if sheep_counter >= 120:\n",
    "    make_a_bed()\n",
    "    take_a_shower()\n",
    "    sleep_and_dream()\n",
    "feed_the_sheepdogs()\n",
    "```\n",
    "\n",
    "sentencia if-else\n",
    "\n",
    "``` python\n",
    "if true_or_false_condition:\n",
    "    perform_if_condition_true\n",
    "else:\n",
    "    perform_if_condition_false\n",
    "```\n",
    "\n",
    "``` python\n",
    "if the_weather_is_good:\n",
    "    go_for_a_walk()\n",
    "else:\n",
    "    go_to_a_theater()\n",
    "have_lunch()\n",
    "```\n",
    "\n",
    "\n",
    "``` python\n",
    "if the_weather_is_good:\n",
    "    if nice_restaurant_is_found:\n",
    "        have_lunch()\n",
    "    else:\n",
    "        eat_a_sandwich()\n",
    "else:\n",
    "    if tickets_are_available:\n",
    "        go_to_the_theater()\n",
    "    else:\n",
    "        go_shopping()\n",
    "```\n",
    "\n",
    "Sentencias if-else anidadas\n",
    "\n",
    "``` python\n",
    "if the_weather_is_good:\n",
    "    if nice_restaurant_is_found:\n",
    "        have_lunch()\n",
    "    else:\n",
    "        eat_a_sandwich()\n",
    "else:\n",
    "    if tickets_are_available:\n",
    "        go_to_the_theater()\n",
    "    else:\n",
    "        go_shopping()\n",
    "```"
   ]
  },
  {
   "cell_type": "markdown",
   "metadata": {},
   "source": [
    "## Ejemplo 1"
   ]
  },
  {
   "cell_type": "code",
   "execution_count": 1,
   "metadata": {},
   "outputs": [
    {
     "name": "stdout",
     "output_type": "stream",
     "text": [
      "El número más grande es: 4\n"
     ]
    }
   ],
   "source": [
    "# Se leen dos números\n",
    "number1 = int(input(\"Ingresa el primer número: \"))\n",
    "number2 = int(input(\"Ingresa el segundo número: \"))\n",
    "\n",
    "# Elige el número más grande\n",
    "if number1 > number2:\n",
    "    larger_number = number1\n",
    "else:\n",
    "    larger_number = number2\n",
    " \n",
    "# Imprime el resultado\n",
    "print(f\"El número más grande es: {larger_number}\")"
   ]
  },
  {
   "cell_type": "markdown",
   "metadata": {},
   "source": [
    "## Ejemplo 2"
   ]
  },
  {
   "cell_type": "code",
   "execution_count": 2,
   "metadata": {},
   "outputs": [
    {
     "name": "stdout",
     "output_type": "stream",
     "text": [
      "El número más grande es: 5\n"
     ]
    }
   ],
   "source": [
    "# Se leen dos números\n",
    "number1 = int(input(\"Ingresa el primer número: \"))\n",
    "number2 = int(input(\"Ingresa el segundo número: \"))\n",
    "\n",
    "# Elige el número más grande\n",
    "if number1 > number2:\n",
    "    larger_number = number1\n",
    "else:\n",
    "    larger_number = number2\n",
    "\n",
    "# Imprime el resultado\n",
    "print(\"El número más grande es:\", larger_number)\n",
    "\n"
   ]
  },
  {
   "cell_type": "markdown",
   "metadata": {},
   "source": [
    "## Ejemplo 3:\n",
    "\n",
    "Es hora de complicar el código - encontremos el mayor de los tres números."
   ]
  },
  {
   "cell_type": "code",
   "execution_count": 4,
   "metadata": {},
   "outputs": [
    {
     "name": "stdout",
     "output_type": "stream",
     "text": [
      "El número más grande es: 10\n"
     ]
    }
   ],
   "source": [
    "# Se leen tres números\n",
    "number1 = int(input(\"Ingresa el primer número: \"))\n",
    "number2 = int(input(\"Ingresa el segundo número: \"))\n",
    "number3 = int(input(\"Ingresa el tercer número: \"))\n",
    "\n",
    "# Asumimos temporalmente que el primer número\n",
    "# es el más grande.\n",
    "# Lo verificaremos pronto.\n",
    "largest_number = number1\n",
    "\n",
    "# Comprobamos si el segundo número es más grande que el mayor número actual\n",
    "# y actualiza el número más grande si es necesario.\n",
    "if number2 > largest_number:\n",
    "    largest_number = number2\n",
    "\n",
    "# Comprobamos si el tercer número es más grande que el mayor número actual\n",
    "# y actualiza el número más grande si es necesario.\n",
    "if number3 > largest_number:\n",
    "    largest_number = number3\n",
    "\n",
    "# Imprime el resultado.\n",
    "print(\"El número más grande es:\", largest_number)\n",
    "\n"
   ]
  },
  {
   "cell_type": "markdown",
   "metadata": {},
   "source": [
    "# LAB   Operadores de comparación y ejecución condicional"
   ]
  },
  {
   "cell_type": "markdown",
   "metadata": {},
   "source": [
    "Espatifilo, más comúnmente conocida como la planta de Cuna de Moisés o flor de la paz, es una de las plantas para interiores más populares que filtra las toxinas dañinas del aire. Algunas de las toxinas que neutraliza incluyen benceno, formaldehído y amoníaco.\n",
    "\n",
    "Imagina que tu programa de computadora ama estas plantas. Cada vez que recibe una entrada en forma de la palabra Espatifilo, grite involuntariamente a la consola la siguiente cadena: \"¡Espatifilo es la mejor planta de todas!\"\n",
    "\n",
    "Escribe un programa que utilice el concepto de ejecución condicional, tome una cadena como entrada y que:\n",
    "\n",
    "imprima el enunciado \"Si - ¡El Espatifilo! es la mejor planta de todos los tiempos!\" en la pantalla si la cadena ingresada es \"ESPATIFILIO\" (mayúsculas)\n",
    "imprima \"No, ¡quiero un gran Espatifilo!\" si la cadena ingresada es \"espatifilo\" (minúsculas)\n",
    "imprima \"¡Espatifilo!, ¡No [entrada]!\" de lo contrario. Nota: [entrada] es la cadena que se toma como entrada.\n",
    "Prueba tu código con los datos que te proporcionamos. ¡Y hazte de un Espatifilo también!\n",
    "\n"
   ]
  },
  {
   "cell_type": "code",
   "execution_count": null,
   "metadata": {},
   "outputs": [],
   "source": [
    "# Solicitar la palabra\n",
    "\n",
    "entrada = input('Introduce la palabra')\n",
    "\n",
    "if entrada == 'ESPATIFILIO':\n",
    "    mensaje = '¡El Espatifilo es la mejor planta'\n",
    "elif entrada == 'espatifilio':\n",
    "    mensaje = 'No,!quiero un gran espatifilio!'\n",
    "else:\n",
    "    mensaje = f'No, {entrada}'\n",
    "\n",
    "print(mensaje)\n",
    "\n"
   ]
  },
  {
   "cell_type": "markdown",
   "metadata": {},
   "source": [
    "# LAB   Fundamentos de la sentencia if-else\n"
   ]
  },
  {
   "cell_type": "markdown",
   "metadata": {},
   "source": [
    "Érase una vez una tierra de leche y miel - habitada por gente feliz y próspera. La gente pagaba impuestos, por supuesto - su felicidad tenía límites. El impuesto más importante, denominado Impuesto Personal de Ingresos (IPI, para abreviar) tenía que pagarse una vez al año y se evaluó utilizando la siguiente regla:\n",
    "\n",
    "si el ingreso del ciudadano no era superior a 85,528 pesos, el impuesto era igual al 18% del ingreso menos 556 pesos y 2 centavos (esta fue la llamada exención fiscal).\n",
    "si el ingreso era superior a esta cantidad, el impuesto era igual a 14,839 pesos y 2 centavos, más el 32% del excedente sobre 85,528 pesos.\n",
    "Tu tarea es escribir una calculadora de impuestos.\n",
    "\n",
    "Debe aceptar un valor de punto flotante: el ingreso.\n",
    "A continuación, debe imprimir el impuesto calculado, redondeado a pesos totales. Hay una función llamada round() que hará el redondeo por ti - la encontrarás en el código de esqueleto del editor.\n",
    "Nota: este país feliz nunca devuelve dinero a sus ciudadanos. Si el impuesto calculado es menor que cero, solo significa que no hay impuesto (el impuesto es igual a cero). Ten esto en cuenta durante tus cálculos.\n",
    "\n",
    "Observa el código en el editor - solo lee un valor de entrada y genera un resultado, por lo que debes completarlo con algunos cálculos inteligentes."
   ]
  },
  {
   "cell_type": "markdown",
   "metadata": {},
   "source": [
    "#  LAB   Fundamentos de la sentencia if-elif-else\n"
   ]
  },
  {
   "cell_type": "markdown",
   "metadata": {},
   "source": [
    "Como seguramente sabrás, debido a algunas razones astronómicas, el año puede ser bisiesto o común. Los primeros tienen una duración de 366 días, mientras que los últimos tienen una duración de 365 días.\n",
    "\n",
    "Desde la introducción del calendario Gregoriano (en 1582), se utiliza la siguiente regla para determinar el tipo de año:\n",
    "\n",
    "si el número del año no es divisible entre cuatro, es un año común.\n",
    "de lo contrario, si el número del año no es divisible entre 100, es un año bisiesto.\n",
    "de lo contrario, si el número del año no es divisible entre 400, es un año común.\n",
    "de lo contrario, es un año bisiesto.\n",
    "Observa el código en el editor - solo lee un número de año y debe completarse con las instrucciones que implementan la prueba que acabamos de describir.\n",
    "\n",
    "El código debe mostrar uno de los dos mensajes posibles, que son Año Bisiesto o Año Común, según el valor ingresado.\n",
    "\n",
    "Sería bueno verificar si el año ingresado cae en la era Gregoriana y emitir una advertencia de lo contrario: No dentro del período del calendario Gregoriano. Consejo: utiliza los operadores != y %."
   ]
  }
 ],
 "metadata": {
  "kernelspec": {
   "display_name": "Python 3",
   "language": "python",
   "name": "python3"
  },
  "language_info": {
   "codemirror_mode": {
    "name": "ipython",
    "version": 3
   },
   "file_extension": ".py",
   "mimetype": "text/x-python",
   "name": "python",
   "nbconvert_exporter": "python",
   "pygments_lexer": "ipython3",
   "version": "3.12.3"
  }
 },
 "nbformat": 4,
 "nbformat_minor": 2
}
